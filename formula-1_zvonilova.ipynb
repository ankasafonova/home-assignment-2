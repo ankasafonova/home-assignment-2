{
 "cells": [
  {
   "cell_type": "markdown",
   "id": "473b7f35",
   "metadata": {},
   "source": [
    "# Введение\n",
    "Моя диссертационная работа посвящена разработке маркетинговой стратегии для продвижения и популяризации автоспорта в России. Однако, для того, чтобы в полной мере понять, какая система нужна для построения стратегии, для начала необходимо разобраться, как устроен мировой автоспорт. Наиболее успешным и пользующимся популярностью среди широких масс чемпионатом по автогонкам считается \"Формула-1\". Пример и бизнес-модель данного соревнования пытаются перенять многие доругие гоночные серии, поэтому не обратить внимание на данный Чемпионат в контексте нашего исследования просто невозможно. В данной работе мы рассмотрим датасет появщенный популярности определенных соревнований среди болельщиков. И попробуем подтвердить или опровергнуть две гипотезы. \n",
    "\n",
    "\n",
    "**Обозначения в таблице**\n",
    "\n",
    "**Год** - в какой год состоялась гонка\n",
    "\n",
    "**Номер** - номер гонки по счету \n",
    "\n",
    "**Название ГП** - какое название носила гонка (в Формуле-1 каждая гонка носит название \n",
    "места проведения, например, гран-при России, гран-при Испании)\n",
    "\n",
    "**Первое-третье место** - кто из гонщиков получил какое место в данной гонке \n",
    "\n",
    "**Рейтинг** - средняя оценка болельщиками того или иного гран-при"
   ]
  },
  {
   "cell_type": "code",
   "execution_count": 1,
   "id": "80b3bf9d",
   "metadata": {},
   "outputs": [],
   "source": [
    "import pandas as pd\n",
    "import matplotlib.pyplot as plt"
   ]
  },
  {
   "cell_type": "code",
   "execution_count": 2,
   "id": "67d6bccf",
   "metadata": {},
   "outputs": [],
   "source": [
    "df = pd.read_csv(\"formula-1.csv\")"
   ]
  },
  {
   "cell_type": "markdown",
   "id": "f069f721",
   "metadata": {},
   "source": [
    "Для начала приведем таблицу в порядок и назовем столбцы так, как нам будет удобнее. Как можно заметить, датасет совсем небольшой, однако постараемся извлечь из него максимум."
   ]
  },
  {
   "cell_type": "code",
   "execution_count": 4,
   "id": "b91914dd",
   "metadata": {},
   "outputs": [
    {
     "data": {
      "text/html": [
       "<div>\n",
       "<style scoped>\n",
       "    .dataframe tbody tr th:only-of-type {\n",
       "        vertical-align: middle;\n",
       "    }\n",
       "\n",
       "    .dataframe tbody tr th {\n",
       "        vertical-align: top;\n",
       "    }\n",
       "\n",
       "    .dataframe thead th {\n",
       "        text-align: right;\n",
       "    }\n",
       "</style>\n",
       "<table border=\"1\" class=\"dataframe\">\n",
       "  <thead>\n",
       "    <tr style=\"text-align: right;\">\n",
       "      <th></th>\n",
       "      <th>ГОД</th>\n",
       "      <th>НОМЕР</th>\n",
       "      <th>НАЗВАНИЕ ГП</th>\n",
       "      <th>ПЕРВОЕ МЕСТО</th>\n",
       "      <th>ВТОРОЕ МЕСТО</th>\n",
       "      <th>ТРЕТЬЕ МЕСТО</th>\n",
       "      <th>РЕЙТИНГ</th>\n",
       "    </tr>\n",
       "  </thead>\n",
       "  <tbody>\n",
       "    <tr>\n",
       "      <th>0</th>\n",
       "      <td>2008</td>\n",
       "      <td>1</td>\n",
       "      <td>Australian GP</td>\n",
       "      <td>Hamilton</td>\n",
       "      <td>Heidfeld</td>\n",
       "      <td>Rosberg</td>\n",
       "      <td>7.609</td>\n",
       "    </tr>\n",
       "    <tr>\n",
       "      <th>1</th>\n",
       "      <td>2008</td>\n",
       "      <td>10</td>\n",
       "      <td>German GP</td>\n",
       "      <td>Hamilton</td>\n",
       "      <td>Piquet</td>\n",
       "      <td>Massa</td>\n",
       "      <td>7.180</td>\n",
       "    </tr>\n",
       "    <tr>\n",
       "      <th>2</th>\n",
       "      <td>2008</td>\n",
       "      <td>11</td>\n",
       "      <td>Hungarian GP</td>\n",
       "      <td>Kovalainen</td>\n",
       "      <td>Glock</td>\n",
       "      <td>Raikkonen</td>\n",
       "      <td>6.202</td>\n",
       "    </tr>\n",
       "    <tr>\n",
       "      <th>3</th>\n",
       "      <td>2008</td>\n",
       "      <td>12</td>\n",
       "      <td>European GP</td>\n",
       "      <td>Massa</td>\n",
       "      <td>Hamilton</td>\n",
       "      <td>Kubica</td>\n",
       "      <td>3.977</td>\n",
       "    </tr>\n",
       "    <tr>\n",
       "      <th>4</th>\n",
       "      <td>2008</td>\n",
       "      <td>13</td>\n",
       "      <td>Belgian GP</td>\n",
       "      <td>Massa</td>\n",
       "      <td>Heidfeld</td>\n",
       "      <td>Hamilton</td>\n",
       "      <td>7.736</td>\n",
       "    </tr>\n",
       "    <tr>\n",
       "      <th>...</th>\n",
       "      <td>...</td>\n",
       "      <td>...</td>\n",
       "      <td>...</td>\n",
       "      <td>...</td>\n",
       "      <td>...</td>\n",
       "      <td>...</td>\n",
       "      <td>...</td>\n",
       "    </tr>\n",
       "    <tr>\n",
       "      <th>197</th>\n",
       "      <td>2018</td>\n",
       "      <td>5</td>\n",
       "      <td>Spanish GP</td>\n",
       "      <td>Hamilton</td>\n",
       "      <td>Bottas</td>\n",
       "      <td>Verstappen</td>\n",
       "      <td>4.850</td>\n",
       "    </tr>\n",
       "    <tr>\n",
       "      <th>198</th>\n",
       "      <td>2018</td>\n",
       "      <td>6</td>\n",
       "      <td>Monaco GP</td>\n",
       "      <td>Ricciardo</td>\n",
       "      <td>Vettel</td>\n",
       "      <td>Hamilton</td>\n",
       "      <td>5.230</td>\n",
       "    </tr>\n",
       "    <tr>\n",
       "      <th>199</th>\n",
       "      <td>2018</td>\n",
       "      <td>7</td>\n",
       "      <td>Canadian GP</td>\n",
       "      <td>Vettel</td>\n",
       "      <td>Bottas</td>\n",
       "      <td>Verstappen</td>\n",
       "      <td>4.240</td>\n",
       "    </tr>\n",
       "    <tr>\n",
       "      <th>200</th>\n",
       "      <td>2018</td>\n",
       "      <td>8</td>\n",
       "      <td>French GP</td>\n",
       "      <td>Hamilton</td>\n",
       "      <td>Verstappen</td>\n",
       "      <td>Raikkonen</td>\n",
       "      <td>6.470</td>\n",
       "    </tr>\n",
       "    <tr>\n",
       "      <th>201</th>\n",
       "      <td>2018</td>\n",
       "      <td>9</td>\n",
       "      <td>Austrian GP</td>\n",
       "      <td>Verstappen</td>\n",
       "      <td>Raikkonen</td>\n",
       "      <td>Vettel</td>\n",
       "      <td>8.010</td>\n",
       "    </tr>\n",
       "  </tbody>\n",
       "</table>\n",
       "<p>202 rows × 7 columns</p>\n",
       "</div>"
      ],
      "text/plain": [
       "      ГОД  НОМЕР    НАЗВАНИЕ ГП ПЕРВОЕ МЕСТО ВТОРОЕ МЕСТО ТРЕТЬЕ МЕСТО  \\\n",
       "0    2008      1  Australian GP     Hamilton     Heidfeld      Rosberg   \n",
       "1    2008     10      German GP     Hamilton       Piquet        Massa   \n",
       "2    2008     11   Hungarian GP   Kovalainen        Glock    Raikkonen   \n",
       "3    2008     12    European GP        Massa     Hamilton       Kubica   \n",
       "4    2008     13     Belgian GP        Massa     Heidfeld     Hamilton   \n",
       "..    ...    ...            ...          ...          ...          ...   \n",
       "197  2018      5     Spanish GP     Hamilton       Bottas   Verstappen   \n",
       "198  2018      6      Monaco GP    Ricciardo       Vettel     Hamilton   \n",
       "199  2018      7    Canadian GP       Vettel       Bottas   Verstappen   \n",
       "200  2018      8      French GP     Hamilton   Verstappen    Raikkonen   \n",
       "201  2018      9    Austrian GP   Verstappen    Raikkonen       Vettel   \n",
       "\n",
       "     РЕЙТИНГ  \n",
       "0      7.609  \n",
       "1      7.180  \n",
       "2      6.202  \n",
       "3      3.977  \n",
       "4      7.736  \n",
       "..       ...  \n",
       "197    4.850  \n",
       "198    5.230  \n",
       "199    4.240  \n",
       "200    6.470  \n",
       "201    8.010  \n",
       "\n",
       "[202 rows x 7 columns]"
      ]
     },
     "execution_count": 4,
     "metadata": {},
     "output_type": "execute_result"
    }
   ],
   "source": [
    "df\n",
    "df.columns = ['ГОД','НОМЕР','НАЗВАНИЕ ГП', 'ПЕРВОЕ МЕСТО', 'ВТОРОЕ МЕСТО', 'ТРЕТЬЕ МЕСТО', 'РЕЙТИНГ']\n",
    "df"
   ]
  },
  {
   "cell_type": "markdown",
   "id": "4bf7a57d",
   "metadata": {},
   "source": [
    "### Гипотеза 1\n",
    "\n",
    "*За последние годы Ф1 (2017-2018) Ф1 начала пользоваться МЕНЬШЕЙ популярностью среди болельщиков чем за период с 2008 по 2017*\n",
    "\n",
    "Среди поклонников Формулы-1 бытует мнение о том, что это уже не те гонки, которые были раньше, изменение регламента и руководства Чемпионата якобы негативно сказалось на популярности гонок. Так ли это? Давайте проверим. "
   ]
  },
  {
   "cell_type": "code",
   "execution_count": 7,
   "id": "9bbf144f",
   "metadata": {},
   "outputs": [],
   "source": [
    "last_years = df[df['ГОД'] >= 2017]\n",
    "prev_period = df[df['ГОД'] <= 2017]"
   ]
  },
  {
   "cell_type": "code",
   "execution_count": 8,
   "id": "5a62d2f0",
   "metadata": {},
   "outputs": [
    {
     "name": "stdout",
     "output_type": "stream",
     "text": [
      "2017-2018 (mean) rating is 6.695454545454545\n",
      "2008-2017 (mean) rating is 6.7913650793650815\n"
     ]
    }
   ],
   "source": [
    "last_years_rating = last_years['РЕЙТИНГ'].mean()\n",
    "prev_period_rating = prev_period['РЕЙТИНГ'].mean()\n",
    "\n",
    "print(\"2017-2018 (mean) rating is\", last_years_rating)\n",
    "print(\"2008-2017 (mean) rating is\", prev_period_rating)"
   ]
  },
  {
   "cell_type": "markdown",
   "id": "9f1b47bc",
   "metadata": {},
   "source": [
    "Видим, что раньше рейтинг был чуть лучше. Однако расхождение в 0.1 кажется не совсем показательным.\n",
    "\n",
    "Построим график:"
   ]
  },
  {
   "cell_type": "code",
   "execution_count": 9,
   "id": "8f966fc6",
   "metadata": {},
   "outputs": [
    {
     "data": {
      "text/plain": [
       "Text(0.5, 1.0, 'Зависимость рейтинга от года')"
      ]
     },
     "execution_count": 9,
     "metadata": {},
     "output_type": "execute_result"
    },
    {
     "data": {
      "image/png": "[encoded data removed]",
      "text/plain": [
       "<Figure size 1440x720 with 1 Axes>"
      ]
     },
     "metadata": {
      "needs_background": "light"
     },
     "output_type": "display_data"
    }
   ],
   "source": [
    "years = [i for i in range(2008, 2018 + 1)]\n",
    "ratings = [df[df['ГОД'] == year]['РЕЙТИНГ'].mean() for year in years]\n",
    "\n",
    "plt.figure(figsize=(20, 10))\n",
    "plt.plot(years, ratings)\n",
    "plt.grid()\n",
    "plt.xlabel(\"год\")\n",
    "plt.ylabel(\"рейтинг\")\n",
    "plt.title('Зависимость рейтинга от года')"
   ]
  },
  {
   "cell_type": "markdown",
   "id": "370a3b1e",
   "metadata": {},
   "source": [
    "Как видно из графика, пик популярности гонок среди болельщиков был в 2010-2012 годах (макс. рейтинг около 7.4), а позже начал показывать сильное падение. Возможно, дело в том, что сами гонки стали менее зрелищными и более предсказуемыми. Для полного подтверждения правоты этой гипотезы в будущем мы проведем дополнительный опрос аудитории Ф-1."
   ]
  },
  {
   "cell_type": "markdown",
   "id": "0562b582",
   "metadata": {},
   "source": [
    "### Гипотеза 2\n",
    "\n",
    "*Рейтинг гонки зависит от конкретного именитого гонщика*\n",
    "\n",
    "Вторая популярная фраза болельщиков Формулы-1 - \"многие смотрят гонки только ради конкретных гонщиков и как только они завершают карьеру или их результаты начинают сильно ухудшатся - они перестают и вовсе смотреть гонки. \n",
    "\n",
    "Проверим. В данной гипотезе мы рассмотрим трех наиболее популярных гонщиков 2010-х годов, обладателей различных личных и командных рекордов - Хэмильтона, Алонсо и Феттеля"
   ]
  },
  {
   "cell_type": "markdown",
   "id": "77e163cd",
   "metadata": {},
   "source": [
    "1. Рассмотрим топ-10 гонок по рейтингу"
   ]
  },
  {
   "cell_type": "code",
   "execution_count": 10,
   "id": "502b86d2",
   "metadata": {},
   "outputs": [
    {
     "data": {
      "text/html": [
       "<div>\n",
       "<style scoped>\n",
       "    .dataframe tbody tr th:only-of-type {\n",
       "        vertical-align: middle;\n",
       "    }\n",
       "\n",
       "    .dataframe tbody tr th {\n",
       "        vertical-align: top;\n",
       "    }\n",
       "\n",
       "    .dataframe thead th {\n",
       "        text-align: right;\n",
       "    }\n",
       "</style>\n",
       "<table border=\"1\" class=\"dataframe\">\n",
       "  <thead>\n",
       "    <tr style=\"text-align: right;\">\n",
       "      <th></th>\n",
       "      <th>ГОД</th>\n",
       "      <th>НОМЕР</th>\n",
       "      <th>НАЗВАНИЕ ГП</th>\n",
       "      <th>ПЕРВОЕ МЕСТО</th>\n",
       "      <th>ВТОРОЕ МЕСТО</th>\n",
       "      <th>ТРЕТЬЕ МЕСТО</th>\n",
       "      <th>РЕЙТИНГ</th>\n",
       "    </tr>\n",
       "  </thead>\n",
       "  <tbody>\n",
       "    <tr>\n",
       "      <th>85</th>\n",
       "      <td>2012</td>\n",
       "      <td>20</td>\n",
       "      <td>Brazilian GP</td>\n",
       "      <td>Button</td>\n",
       "      <td>Alonso</td>\n",
       "      <td>Massa</td>\n",
       "      <td>9.449</td>\n",
       "    </tr>\n",
       "    <tr>\n",
       "      <th>66</th>\n",
       "      <td>2011</td>\n",
       "      <td>3</td>\n",
       "      <td>Chinese GP</td>\n",
       "      <td>Hamilton</td>\n",
       "      <td>Vettel</td>\n",
       "      <td>Webber</td>\n",
       "      <td>9.241</td>\n",
       "    </tr>\n",
       "    <tr>\n",
       "      <th>127</th>\n",
       "      <td>2014</td>\n",
       "      <td>7</td>\n",
       "      <td>Canadian GP</td>\n",
       "      <td>Ricciardo</td>\n",
       "      <td>Rosberg</td>\n",
       "      <td>Vettel</td>\n",
       "      <td>9.190</td>\n",
       "    </tr>\n",
       "    <tr>\n",
       "      <th>114</th>\n",
       "      <td>2014</td>\n",
       "      <td>11</td>\n",
       "      <td>Hungarian GP</td>\n",
       "      <td>Ricciardo</td>\n",
       "      <td>Alonso</td>\n",
       "      <td>Hamilton</td>\n",
       "      <td>9.140</td>\n",
       "    </tr>\n",
       "    <tr>\n",
       "      <th>131</th>\n",
       "      <td>2015</td>\n",
       "      <td>10</td>\n",
       "      <td>Hungarian GP</td>\n",
       "      <td>Vettel</td>\n",
       "      <td>Kvyat</td>\n",
       "      <td>Ricciardo</td>\n",
       "      <td>9.110</td>\n",
       "    </tr>\n",
       "    <tr>\n",
       "      <th>137</th>\n",
       "      <td>2015</td>\n",
       "      <td>16</td>\n",
       "      <td>United States GP</td>\n",
       "      <td>Hamilton</td>\n",
       "      <td>Rosberg</td>\n",
       "      <td>Vettel</td>\n",
       "      <td>9.100</td>\n",
       "    </tr>\n",
       "    <tr>\n",
       "      <th>70</th>\n",
       "      <td>2011</td>\n",
       "      <td>7</td>\n",
       "      <td>Canadian GP</td>\n",
       "      <td>Button</td>\n",
       "      <td>Vettel</td>\n",
       "      <td>Webber</td>\n",
       "      <td>9.095</td>\n",
       "    </tr>\n",
       "    <tr>\n",
       "      <th>123</th>\n",
       "      <td>2014</td>\n",
       "      <td>3</td>\n",
       "      <td>Bahrain GP</td>\n",
       "      <td>Hamilton</td>\n",
       "      <td>Rosberg</td>\n",
       "      <td>Perez</td>\n",
       "      <td>9.095</td>\n",
       "    </tr>\n",
       "    <tr>\n",
       "      <th>82</th>\n",
       "      <td>2012</td>\n",
       "      <td>18</td>\n",
       "      <td>Abu Dhabi GP</td>\n",
       "      <td>Raikkonen</td>\n",
       "      <td>Alonso</td>\n",
       "      <td>Vettel</td>\n",
       "      <td>8.854</td>\n",
       "    </tr>\n",
       "    <tr>\n",
       "      <th>187</th>\n",
       "      <td>2017</td>\n",
       "      <td>8</td>\n",
       "      <td>Azerbaijan GP</td>\n",
       "      <td>Ricciardo</td>\n",
       "      <td>Bottas</td>\n",
       "      <td>Stroll</td>\n",
       "      <td>8.800</td>\n",
       "    </tr>\n",
       "  </tbody>\n",
       "</table>\n",
       "</div>"
      ],
      "text/plain": [
       "      ГОД  НОМЕР       НАЗВАНИЕ ГП ПЕРВОЕ МЕСТО ВТОРОЕ МЕСТО ТРЕТЬЕ МЕСТО  \\\n",
       "85   2012     20      Brazilian GP       Button       Alonso        Massa   \n",
       "66   2011      3        Chinese GP     Hamilton       Vettel       Webber   \n",
       "127  2014      7       Canadian GP    Ricciardo      Rosberg       Vettel   \n",
       "114  2014     11      Hungarian GP    Ricciardo       Alonso     Hamilton   \n",
       "131  2015     10      Hungarian GP       Vettel        Kvyat    Ricciardo   \n",
       "137  2015     16  United States GP     Hamilton      Rosberg       Vettel   \n",
       "70   2011      7       Canadian GP       Button       Vettel       Webber   \n",
       "123  2014      3        Bahrain GP     Hamilton      Rosberg        Perez   \n",
       "82   2012     18      Abu Dhabi GP    Raikkonen       Alonso       Vettel   \n",
       "187  2017      8     Azerbaijan GP    Ricciardo       Bottas       Stroll   \n",
       "\n",
       "     РЕЙТИНГ  \n",
       "85     9.449  \n",
       "66     9.241  \n",
       "127    9.190  \n",
       "114    9.140  \n",
       "131    9.110  \n",
       "137    9.100  \n",
       "70     9.095  \n",
       "123    9.095  \n",
       "82     8.854  \n",
       "187    8.800  "
      ]
     },
     "execution_count": 10,
     "metadata": {},
     "output_type": "execute_result"
    }
   ],
   "source": [
    "df.sort_values(by=['РЕЙТИНГ'], ascending=False).head(10)"
   ]
  },
  {
   "cell_type": "markdown",
   "id": "b415ff8a",
   "metadata": {},
   "source": [
    "Найдем следующую величину для каждого из гонщиков - средний рейтинг по всем гонкам, в которых гонщик занял призовое место"
   ]
  },
  {
   "cell_type": "code",
   "execution_count": 15,
   "id": "d75a964d",
   "metadata": {},
   "outputs": [
    {
     "data": {
      "text/plain": [
       "{'Hamilton': 6.800610619469029,\n",
       " 'Heidfeld': 7.396166666666666,\n",
       " 'Rosberg': 6.644836363636363,\n",
       " 'Piquet': 7.18,\n",
       " 'Massa': 6.417375,\n",
       " 'Kovalainen': 6.697666666666667,\n",
       " 'Glock': 5.607333333333333,\n",
       " 'Raikkonen': 6.842900000000002,\n",
       " 'Kubica': 7.037272727272727,\n",
       " 'Vettel': 6.671130841121496,\n",
       " 'Alonso': 6.885333333333332,\n",
       " 'Coultard': 7.809,\n",
       " 'Trulli': 5.9785,\n",
       " 'Barichello': 6.442,\n",
       " 'Button': 7.085,\n",
       " 'Webber': 6.6462499999999975,\n",
       " 'Fisichella': 7.852,\n",
       " 'Petrov': 6.751,\n",
       " 'Grosjean': 6.9522,\n",
       " 'Perez': 7.679250000000001,\n",
       " 'Kobayashi': 6.381,\n",
       " 'Maldonado': 8.274,\n",
       " 'Schumacher': 8.784,\n",
       " 'Ricciardo': 7.141724137931034,\n",
       " 'Magnussen': 6.89,\n",
       " 'Bottas': 6.520740740740741,\n",
       " 'Kvyat': 8.4815,\n",
       " 'Verstappen': 6.7456249999999995,\n",
       " 'Stroll': 8.8}"
      ]
     },
     "execution_count": 15,
     "metadata": {},
     "output_type": "execute_result"
    }
   ],
   "source": [
    "racer_ratings = {}\n",
    "\n",
    "racer_mean = {}\n",
    "\n",
    "for index, row in df.iterrows():\n",
    "    for racer in [row[\"ПЕРВОЕ МЕСТО\"], row[\"ВТОРОЕ МЕСТО\"], row[\"ТРЕТЬЕ МЕСТО\"]]:\n",
    "        if racer_ratings.get(racer) == None:\n",
    "            racer_ratings[racer] = []\n",
    "        racer_ratings[racer].append(row[\"РЕЙТИНГ\"])\n",
    "\n",
    "for key, value in racer_ratings.items():\n",
    "    racer_mean[key] = sum(value) / len(value)\n",
    "racer_mean"
   ]
  },
  {
   "cell_type": "markdown",
   "id": "e8605133",
   "metadata": {},
   "source": [
    "А теперь график:"
   ]
  },
  {
   "cell_type": "code",
   "execution_count": 16,
   "id": "f487d4ed",
   "metadata": {},
   "outputs": [
    {
     "data": {
      "text/plain": [
       "Text(0.5, 1.0, 'Средний рейтинг по гонщикам')"
      ]
     },
     "execution_count": 16,
     "metadata": {},
     "output_type": "execute_result"
    },
    {
     "data": {
      "image/png": "[encoded data removed]",
      "text/plain": [
       "<Figure size 720x720 with 1 Axes>"
      ]
     },
     "metadata": {
      "needs_background": "light"
     },
     "output_type": "display_data"
    }
   ],
   "source": [
    "x_racers = []\n",
    "y_rating = []\n",
    "for key, value in dict(sorted(racer_mean.items(), key=lambda item: -item[1])).items():\n",
    "    x_racers.append(key)\n",
    "    y_rating.append(racer_mean[key])\n",
    "x_racers = x_racers[::-1]\n",
    "y_rating = y_rating[::-1]\n",
    "plt.figure(figsize=(10, 10))\n",
    "plt.barh(x_racers, y_rating)\n",
    "plt.title(\"Средний рейтинг по гонщикам\")"
   ]
  },
  {
   "cell_type": "markdown",
   "id": "e3356dbe",
   "metadata": {},
   "source": [
    "Является ли этот график показательным? Не совсем. К примеру коварный Stroll, который занимает 1-ое место по среднему рейтингу в гонках, лишь один раз занял призовое место (да и то 3). И в целом примерно топ-7 по среднему рейтингу в соревнованиях практически не участвовали. Наглядно это показывает следующий график"
   ]
  },
  {
   "cell_type": "code",
   "execution_count": 21,
   "id": "acc1be3e",
   "metadata": {},
   "outputs": [
    {
     "data": {
      "text/plain": [
       "Text(0.5, 1.0, 'Количество участий у топа по среднему рейтингу')"
      ]
     },
     "execution_count": 21,
     "metadata": {},
     "output_type": "execute_result"
    },
    {
     "data": {
      "image/png": "[encoded data removed]",
      "text/plain": [
       "<Figure size 720x720 with 1 Axes>"
      ]
     },
     "metadata": {
      "needs_background": "light"
     },
     "output_type": "display_data"
    }
   ],
   "source": [
    "x_racers = []\n",
    "y_prizes = []\n",
    "\n",
    "for key, value in dict(sorted(racer_mean.items(), key=lambda item: -item[1])).items():\n",
    "    prizes = len(df[df[\"ПЕРВОЕ МЕСТО\"] == key]) + len(df[df[\"ВТОРОЕ МЕСТО\"] == key]) + len(df[df[\"ТРЕТЬЕ МЕСТО\"] == key])\n",
    "    x_racers.append(key)\n",
    "    y_prizes.append(prizes)\n",
    "x_racers = x_racers[::-1]\n",
    "y_prizes = y_prizes[::-1]\n",
    "plt.figure(figsize=(10, 10))\n",
    "plt.barh(x_racers, y_prizes)\n",
    "plt.title(\"Количество участий у топа по среднему рейтингу\")"
   ]
  },
  {
   "cell_type": "markdown",
   "id": "0adc36b2",
   "metadata": {},
   "source": [
    "Построим теперь тот же самый график (по среднему рейтингу) для тех, кто участвовал в соревнованиях $\\geq 20$ раз:"
   ]
  },
  {
   "cell_type": "code",
   "execution_count": 22,
   "id": "c0964008",
   "metadata": {},
   "outputs": [],
   "source": [
    "threshold = 20\n",
    "\n",
    "racer_ratings_20 = {}\n",
    "\n",
    "racer_mean_20 = {}\n",
    "\n",
    "for index, row in df.iterrows():\n",
    "    for racer in [row[\"ПЕРВОЕ МЕСТО\"], row[\"ВТОРОЕ МЕСТО\"], row[\"ТРЕТЬЕ МЕСТО\"]]:\n",
    "        if racer_ratings_20.get(racer) == None:\n",
    "            racer_ratings_20[racer] = []\n",
    "        racer_ratings_20[racer].append(row[\"РЕЙТИНГ\"])\n",
    "\n",
    "for key, value in racer_ratings_20.items():\n",
    "    if len(value) >= threshold:\n",
    "        racer_mean_20[key] = sum(value) / len(value)"
   ]
  },
  {
   "cell_type": "code",
   "execution_count": 23,
   "id": "af0c034c",
   "metadata": {},
   "outputs": [
    {
     "data": {
      "text/plain": [
       "Text(0.5, 1.0, 'Средний рейтинг по гонщикам, которые участвовали >= 20 раз')"
      ]
     },
     "execution_count": 23,
     "metadata": {},
     "output_type": "execute_result"
    },
    {
     "data": {
      "image/png": "[encoded data removed]",
      "text/plain": [
       "<Figure size 720x720 with 1 Axes>"
      ]
     },
     "metadata": {
      "needs_background": "light"
     },
     "output_type": "display_data"
    }
   ],
   "source": [
    "x_racers_20 = []\n",
    "y_rating_20 = []\n",
    "for key, value in dict(sorted(racer_mean_20.items(), key=lambda item: -item[1])).items():\n",
    "    x_racers_20.append(key)\n",
    "    y_rating_20.append(racer_mean_20[key])\n",
    "x_racers_20 = x_racers_20[::-1]\n",
    "y_rating_20 = y_rating_20[::-1]\n",
    "plt.figure(figsize=(10, 10))\n",
    "plt.barh(x_racers_20, y_rating_20)\n",
    "plt.title(\"Средний рейтинг по гонщикам, которые участвовали >= 20 раз\")"
   ]
  },
  {
   "cell_type": "markdown",
   "id": "69a966e6",
   "metadata": {},
   "source": [
    "Посмотрим теперь пилотов, гонки с которым чаще других имеют более высокую оценку среди аудитории.\n",
    "\n",
    "Это можно интерпретировать по-разному. Давайте посчитаем следующую величину: топ гонщиков по доле гонок, попавших в топ 20% по рейтингу. Причем среди гонщиков, которые участвовали хотя бы в 20 гонках (другие не очень интересны)."
   ]
  },
  {
   "cell_type": "code",
   "execution_count": 24,
   "id": "72eb8e77",
   "metadata": {},
   "outputs": [
    {
     "name": "stdout",
     "output_type": "stream",
     "text": [
      "7.9474\n"
     ]
    }
   ],
   "source": [
    "rating_percentage = 80 # top 20% - is 80% quantile\n",
    "rating_threshold = df['РЕЙТИНГ'].quantile(rating_percentage / 100)\n",
    "print(rating_threshold)\n",
    "racer_good_count = {}\n",
    "\n",
    "for key, value in racer_ratings_20.items():\n",
    "    if len(value) >= 20:\n",
    "        cnt = len([x for x in value if x >= rating_threshold])\n",
    "        racer_good_count[key] = cnt"
   ]
  },
  {
   "cell_type": "code",
   "execution_count": 25,
   "id": "5a3c1d66",
   "metadata": {},
   "outputs": [
    {
     "data": {
      "text/plain": [
       "Text(0.5, 1.0, 'Топ гонщиков с самой высокой долей \"хороших\" гонок')"
      ]
     },
     "execution_count": 25,
     "metadata": {},
     "output_type": "execute_result"
    },
    {
     "data": {
      "image/png": "[encoded data removed]",
      "text/plain": [
       "<Figure size 720x720 with 1 Axes>"
      ]
     },
     "metadata": {
      "needs_background": "light"
     },
     "output_type": "display_data"
    }
   ],
   "source": [
    "x_racers_20 = []\n",
    "y_count_20 = []\n",
    "for key, value in dict(sorted(racer_good_count.items(), key=lambda item: -item[1])).items():\n",
    "    x_racers_20.append(key)\n",
    "    y_count_20.append(racer_good_count[key])\n",
    "x_racers_20 = x_racers_20[::-1]\n",
    "y_count_20 = y_count_20[::-1]\n",
    "plt.figure(figsize=(10, 10))\n",
    "plt.barh(x_racers_20, y_count_20)\n",
    "plt.title(\"Топ гонщиков с самой высокой долей \\\"хороших\\\" гонок\")"
   ]
  },
  {
   "cell_type": "markdown",
   "id": "d6d174b8",
   "metadata": {},
   "source": [
    "В конце мы наконец увидели, что действительно, гонщики с хорошим рейтингом и успешными гонками, о которых мы говорили в начале, формулируя гипотезу, действительно Феттель, Алонсо и Хэмильтон"
   ]
  },
  {
   "cell_type": "markdown",
   "id": "87918fd7",
   "metadata": {},
   "source": [
    "# Для личного интереса  "
   ]
  },
  {
   "cell_type": "markdown",
   "id": "79ffb37f",
   "metadata": {},
   "source": [
    "Рассмотрим две наиболее популярные гонки в каждом году и попытаемся понять, что вызвало такой всплеск популярности у болельщиков. "
   ]
  },
  {
   "cell_type": "code",
   "execution_count": 27,
   "id": "eb3fc4ad",
   "metadata": {},
   "outputs": [
    {
     "data": {
      "text/html": [
       "<div>\n",
       "<style scoped>\n",
       "    .dataframe tbody tr th:only-of-type {\n",
       "        vertical-align: middle;\n",
       "    }\n",
       "\n",
       "    .dataframe tbody tr th {\n",
       "        vertical-align: top;\n",
       "    }\n",
       "\n",
       "    .dataframe thead th {\n",
       "        text-align: right;\n",
       "    }\n",
       "</style>\n",
       "<table border=\"1\" class=\"dataframe\">\n",
       "  <thead>\n",
       "    <tr style=\"text-align: right;\">\n",
       "      <th></th>\n",
       "      <th></th>\n",
       "      <th>ГОД</th>\n",
       "      <th>НОМЕР</th>\n",
       "      <th>НАЗВАНИЕ ГП</th>\n",
       "      <th>ПЕРВОЕ МЕСТО</th>\n",
       "      <th>ВТОРОЕ МЕСТО</th>\n",
       "      <th>ТРЕТЬЕ МЕСТО</th>\n",
       "      <th>РЕЙТИНГ</th>\n",
       "    </tr>\n",
       "    <tr>\n",
       "      <th>ГОД</th>\n",
       "      <th></th>\n",
       "      <th></th>\n",
       "      <th></th>\n",
       "      <th></th>\n",
       "      <th></th>\n",
       "      <th></th>\n",
       "      <th></th>\n",
       "      <th></th>\n",
       "    </tr>\n",
       "  </thead>\n",
       "  <tbody>\n",
       "    <tr>\n",
       "      <th rowspan=\"2\" valign=\"top\">2008</th>\n",
       "      <th>9</th>\n",
       "      <td>2008</td>\n",
       "      <td>18</td>\n",
       "      <td>Brazilian GP</td>\n",
       "      <td>Massa</td>\n",
       "      <td>Alonso</td>\n",
       "      <td>Raikkonen</td>\n",
       "      <td>8.756</td>\n",
       "    </tr>\n",
       "    <tr>\n",
       "      <th>14</th>\n",
       "      <td>2008</td>\n",
       "      <td>6</td>\n",
       "      <td>Monaco GP</td>\n",
       "      <td>Hamilton</td>\n",
       "      <td>Kubica</td>\n",
       "      <td>Massa</td>\n",
       "      <td>8.177</td>\n",
       "    </tr>\n",
       "    <tr>\n",
       "      <th rowspan=\"2\" valign=\"top\">2009</th>\n",
       "      <th>25</th>\n",
       "      <td>2009</td>\n",
       "      <td>16</td>\n",
       "      <td>Brazilian GP</td>\n",
       "      <td>Webber</td>\n",
       "      <td>Kubica</td>\n",
       "      <td>Hamilton</td>\n",
       "      <td>8.309</td>\n",
       "    </tr>\n",
       "    <tr>\n",
       "      <th>18</th>\n",
       "      <td>2009</td>\n",
       "      <td>1</td>\n",
       "      <td>Australian GP</td>\n",
       "      <td>Button</td>\n",
       "      <td>Barichello</td>\n",
       "      <td>Trulli</td>\n",
       "      <td>7.937</td>\n",
       "    </tr>\n",
       "    <tr>\n",
       "      <th rowspan=\"2\" valign=\"top\">2010</th>\n",
       "      <th>52</th>\n",
       "      <td>2010</td>\n",
       "      <td>8</td>\n",
       "      <td>Canadian GP</td>\n",
       "      <td>Hamilton</td>\n",
       "      <td>Button</td>\n",
       "      <td>Alonso</td>\n",
       "      <td>8.668</td>\n",
       "    </tr>\n",
       "    <tr>\n",
       "      <th>46</th>\n",
       "      <td>2010</td>\n",
       "      <td>2</td>\n",
       "      <td>Australian GP</td>\n",
       "      <td>Button</td>\n",
       "      <td>Kubica</td>\n",
       "      <td>Massa</td>\n",
       "      <td>8.638</td>\n",
       "    </tr>\n",
       "    <tr>\n",
       "      <th rowspan=\"2\" valign=\"top\">2011</th>\n",
       "      <th>66</th>\n",
       "      <td>2011</td>\n",
       "      <td>3</td>\n",
       "      <td>Chinese GP</td>\n",
       "      <td>Hamilton</td>\n",
       "      <td>Vettel</td>\n",
       "      <td>Webber</td>\n",
       "      <td>9.241</td>\n",
       "    </tr>\n",
       "    <tr>\n",
       "      <th>70</th>\n",
       "      <td>2011</td>\n",
       "      <td>7</td>\n",
       "      <td>Canadian GP</td>\n",
       "      <td>Button</td>\n",
       "      <td>Vettel</td>\n",
       "      <td>Webber</td>\n",
       "      <td>9.095</td>\n",
       "    </tr>\n",
       "    <tr>\n",
       "      <th rowspan=\"2\" valign=\"top\">2012</th>\n",
       "      <th>85</th>\n",
       "      <td>2012</td>\n",
       "      <td>20</td>\n",
       "      <td>Brazilian GP</td>\n",
       "      <td>Button</td>\n",
       "      <td>Alonso</td>\n",
       "      <td>Massa</td>\n",
       "      <td>9.449</td>\n",
       "    </tr>\n",
       "    <tr>\n",
       "      <th>82</th>\n",
       "      <td>2012</td>\n",
       "      <td>18</td>\n",
       "      <td>Abu Dhabi GP</td>\n",
       "      <td>Raikkonen</td>\n",
       "      <td>Alonso</td>\n",
       "      <td>Vettel</td>\n",
       "      <td>8.854</td>\n",
       "    </tr>\n",
       "    <tr>\n",
       "      <th rowspan=\"2\" valign=\"top\">2013</th>\n",
       "      <th>106</th>\n",
       "      <td>2013</td>\n",
       "      <td>4</td>\n",
       "      <td>Bahrain GP</td>\n",
       "      <td>Vettel</td>\n",
       "      <td>Raikkonen</td>\n",
       "      <td>Grosjean</td>\n",
       "      <td>7.826</td>\n",
       "    </tr>\n",
       "    <tr>\n",
       "      <th>93</th>\n",
       "      <td>2013</td>\n",
       "      <td>1</td>\n",
       "      <td>Australian GP</td>\n",
       "      <td>Raikkonen</td>\n",
       "      <td>Alonso</td>\n",
       "      <td>Vettel</td>\n",
       "      <td>7.698</td>\n",
       "    </tr>\n",
       "    <tr>\n",
       "      <th rowspan=\"2\" valign=\"top\">2014</th>\n",
       "      <th>127</th>\n",
       "      <td>2014</td>\n",
       "      <td>7</td>\n",
       "      <td>Canadian GP</td>\n",
       "      <td>Ricciardo</td>\n",
       "      <td>Rosberg</td>\n",
       "      <td>Vettel</td>\n",
       "      <td>9.190</td>\n",
       "    </tr>\n",
       "    <tr>\n",
       "      <th>114</th>\n",
       "      <td>2014</td>\n",
       "      <td>11</td>\n",
       "      <td>Hungarian GP</td>\n",
       "      <td>Ricciardo</td>\n",
       "      <td>Alonso</td>\n",
       "      <td>Hamilton</td>\n",
       "      <td>9.140</td>\n",
       "    </tr>\n",
       "    <tr>\n",
       "      <th rowspan=\"2\" valign=\"top\">2015</th>\n",
       "      <th>131</th>\n",
       "      <td>2015</td>\n",
       "      <td>10</td>\n",
       "      <td>Hungarian GP</td>\n",
       "      <td>Vettel</td>\n",
       "      <td>Kvyat</td>\n",
       "      <td>Ricciardo</td>\n",
       "      <td>9.110</td>\n",
       "    </tr>\n",
       "    <tr>\n",
       "      <th>137</th>\n",
       "      <td>2015</td>\n",
       "      <td>16</td>\n",
       "      <td>United States GP</td>\n",
       "      <td>Hamilton</td>\n",
       "      <td>Rosberg</td>\n",
       "      <td>Vettel</td>\n",
       "      <td>9.100</td>\n",
       "    </tr>\n",
       "    <tr>\n",
       "      <th rowspan=\"2\" valign=\"top\">2016</th>\n",
       "      <th>164</th>\n",
       "      <td>2016</td>\n",
       "      <td>5</td>\n",
       "      <td>Spanish GP</td>\n",
       "      <td>Verstappen</td>\n",
       "      <td>Raikkonen</td>\n",
       "      <td>Vettel</td>\n",
       "      <td>8.720</td>\n",
       "    </tr>\n",
       "    <tr>\n",
       "      <th>160</th>\n",
       "      <td>2016</td>\n",
       "      <td>20</td>\n",
       "      <td>Brazilian GP</td>\n",
       "      <td>Hamilton</td>\n",
       "      <td>Rosberg</td>\n",
       "      <td>Verstappen</td>\n",
       "      <td>8.200</td>\n",
       "    </tr>\n",
       "    <tr>\n",
       "      <th rowspan=\"2\" valign=\"top\">2017</th>\n",
       "      <th>187</th>\n",
       "      <td>2017</td>\n",
       "      <td>8</td>\n",
       "      <td>Azerbaijan GP</td>\n",
       "      <td>Ricciardo</td>\n",
       "      <td>Bottas</td>\n",
       "      <td>Stroll</td>\n",
       "      <td>8.800</td>\n",
       "    </tr>\n",
       "    <tr>\n",
       "      <th>182</th>\n",
       "      <td>2017</td>\n",
       "      <td>3</td>\n",
       "      <td>Bahrain GP</td>\n",
       "      <td>Vettel</td>\n",
       "      <td>Hamilton</td>\n",
       "      <td>Bottas</td>\n",
       "      <td>7.900</td>\n",
       "    </tr>\n",
       "    <tr>\n",
       "      <th rowspan=\"2\" valign=\"top\">2018</th>\n",
       "      <th>190</th>\n",
       "      <td>2018</td>\n",
       "      <td>10</td>\n",
       "      <td>British GP</td>\n",
       "      <td>Vettel</td>\n",
       "      <td>Hamilton</td>\n",
       "      <td>Raikkonen</td>\n",
       "      <td>8.690</td>\n",
       "    </tr>\n",
       "    <tr>\n",
       "      <th>195</th>\n",
       "      <td>2018</td>\n",
       "      <td>3</td>\n",
       "      <td>Chinese GP</td>\n",
       "      <td>Ricciardo</td>\n",
       "      <td>Bottas</td>\n",
       "      <td>Raikkonen</td>\n",
       "      <td>8.590</td>\n",
       "    </tr>\n",
       "  </tbody>\n",
       "</table>\n",
       "</div>"
      ],
      "text/plain": [
       "           ГОД  НОМЕР       НАЗВАНИЕ ГП ПЕРВОЕ МЕСТО ВТОРОЕ МЕСТО  \\\n",
       "ГОД                                                                 \n",
       "2008 9    2008     18      Brazilian GP        Massa       Alonso   \n",
       "     14   2008      6         Monaco GP     Hamilton       Kubica   \n",
       "2009 25   2009     16      Brazilian GP       Webber       Kubica   \n",
       "     18   2009      1     Australian GP       Button   Barichello   \n",
       "2010 52   2010      8       Canadian GP     Hamilton       Button   \n",
       "     46   2010      2     Australian GP       Button       Kubica   \n",
       "2011 66   2011      3        Chinese GP     Hamilton       Vettel   \n",
       "     70   2011      7       Canadian GP       Button       Vettel   \n",
       "2012 85   2012     20      Brazilian GP       Button       Alonso   \n",
       "     82   2012     18      Abu Dhabi GP    Raikkonen       Alonso   \n",
       "2013 106  2013      4        Bahrain GP       Vettel    Raikkonen   \n",
       "     93   2013      1     Australian GP    Raikkonen       Alonso   \n",
       "2014 127  2014      7       Canadian GP    Ricciardo      Rosberg   \n",
       "     114  2014     11      Hungarian GP    Ricciardo       Alonso   \n",
       "2015 131  2015     10      Hungarian GP       Vettel        Kvyat   \n",
       "     137  2015     16  United States GP     Hamilton      Rosberg   \n",
       "2016 164  2016      5        Spanish GP   Verstappen    Raikkonen   \n",
       "     160  2016     20      Brazilian GP     Hamilton      Rosberg   \n",
       "2017 187  2017      8     Azerbaijan GP    Ricciardo       Bottas   \n",
       "     182  2017      3        Bahrain GP       Vettel     Hamilton   \n",
       "2018 190  2018     10        British GP       Vettel     Hamilton   \n",
       "     195  2018      3        Chinese GP    Ricciardo       Bottas   \n",
       "\n",
       "         ТРЕТЬЕ МЕСТО  РЕЙТИНГ  \n",
       "ГОД                             \n",
       "2008 9      Raikkonen    8.756  \n",
       "     14         Massa    8.177  \n",
       "2009 25      Hamilton    8.309  \n",
       "     18        Trulli    7.937  \n",
       "2010 52        Alonso    8.668  \n",
       "     46         Massa    8.638  \n",
       "2011 66        Webber    9.241  \n",
       "     70        Webber    9.095  \n",
       "2012 85         Massa    9.449  \n",
       "     82        Vettel    8.854  \n",
       "2013 106     Grosjean    7.826  \n",
       "     93        Vettel    7.698  \n",
       "2014 127       Vettel    9.190  \n",
       "     114     Hamilton    9.140  \n",
       "2015 131    Ricciardo    9.110  \n",
       "     137       Vettel    9.100  \n",
       "2016 164       Vettel    8.720  \n",
       "     160   Verstappen    8.200  \n",
       "2017 187       Stroll    8.800  \n",
       "     182       Bottas    7.900  \n",
       "2018 190    Raikkonen    8.690  \n",
       "     195    Raikkonen    8.590  "
      ]
     },
     "execution_count": 27,
     "metadata": {},
     "output_type": "execute_result"
    }
   ],
   "source": [
    "df.groupby(\"ГОД\").apply(lambda x : x.sort_values(by=\"РЕЙТИНГ\", ascending=False).head(2))"
   ]
  },
  {
   "cell_type": "markdown",
   "id": "412c1389",
   "metadata": {},
   "source": [
    "Как видно из графика, гран-при с наивысшим рейтингом (почти 9,5!) стал финальный этап в Бразилии. Если обратиться к истории, то можно узнать, что именно на этот гран-при пришлась разязка сезона: гонка решала, кто из гонщиков получит в 2012 году чемпионский титул. Сама гонка выдалась очень насыщенной, со множеством аварий, победу одержал «мастер дождевых гонок» - Дженсон Баттон, а Фернандо Алонсо,который в гонке финишировал вторым, лишился очередного титула. Словом, поклонники гонок не зря ставят высокие оценки определенным из них - ведь гораздо интереснее следить за накалом страстей, чем за привычным и для кого-то убаюкивающим ходом гоночных болидов."
   ]
  },
  {
   "cell_type": "markdown",
   "id": "03c05d77",
   "metadata": {},
   "source": [
    "**В конце интересно посмотреть, кто стал победителем гонок, которые вошли в топ-10 зрительских симпатий. Построим график!**"
   ]
  },
  {
   "cell_type": "code",
   "execution_count": 28,
   "id": "20a22c12",
   "metadata": {},
   "outputs": [],
   "source": [
    "y_country = []\n",
    "x_rating = []\n",
    "name = []\n",
    "for index, row in df.sort_values(\"РЕЙТИНГ\", ascending=False).head(10).iterrows():\n",
    "    x_rating.append(row[\"РЕЙТИНГ\"])\n",
    "    y_country.append(row[\"НАЗВАНИЕ ГП\"])\n",
    "    name.append(row[\"ПЕРВОЕ МЕСТО\"])\n"
   ]
  },
  {
   "cell_type": "code",
   "execution_count": 29,
   "id": "ce2fc83c",
   "metadata": {},
   "outputs": [
    {
     "data": {
      "text/plain": [
       "Text(0.5, 1.0, 'Топ-10 гонок')"
      ]
     },
     "execution_count": 29,
     "metadata": {},
     "output_type": "execute_result"
    },
    {
     "data": {
      "image/png": "[encoded data removed]",
      "text/plain": [
       "<Figure size 1080x1080 with 1 Axes>"
      ]
     },
     "metadata": {
      "needs_background": "light"
     },
     "output_type": "display_data"
    }
   ],
   "source": [
    "plt.figure(figsize=(15, 15))\n",
    "plt.scatter(x_rating, y_country)\n",
    "for i in range(len(x_rating)):\n",
    "    plt.annotate(name[i], (x_rating[i], y_country[i]))\n",
    "plt.grid()\n",
    "plt.xlabel(\"Рейтинг\")\n",
    "plt.ylabel(\"Страна\")\n",
    "plt.title(\"Топ-10 гонок\")"
   ]
  },
  {
   "cell_type": "markdown",
   "id": "5842f0c6",
   "metadata": {},
   "source": [
    "На этом завершаем анализ нашего небольшого датасета. Интересно, что в ходе его анал"
   ]
  }
 ],
 "metadata": {
  "kernelspec": {
   "display_name": "Python 3 (ipykernel)",
   "language": "python",
   "name": "python3"
  },
  "language_info": {
   "codemirror_mode": {
    "name": "ipython",
    "version": 3
   },
   "file_extension": ".py",
   "mimetype": "text/x-python",
   "name": "python",
   "nbconvert_exporter": "python",
   "pygments_lexer": "ipython3",
   "version": "3.9.12"
  }
 },
 "nbformat": 4,
 "nbformat_minor": 5
}
